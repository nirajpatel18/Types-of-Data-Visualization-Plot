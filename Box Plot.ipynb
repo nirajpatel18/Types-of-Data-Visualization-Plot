{
 "cells": [
  {
   "cell_type": "code",
   "execution_count": 1,
   "metadata": {},
   "outputs": [],
   "source": [
    "import pandas as pd\n",
    "import numpy as np\n",
    "import matplotlib.pyplot as plt\n",
    "%matplotlib inline"
   ]
  },
  {
   "cell_type": "markdown",
   "metadata": {},
   "source": [
    "# Box Plot"
   ]
  },
  {
   "cell_type": "code",
   "execution_count": 2,
   "metadata": {},
   "outputs": [
    {
     "data": {
      "image/png": "[encoded data removed]",
      "text/plain": [
       "<Figure size 432x288 with 1 Axes>"
      ]
     },
     "metadata": {
      "needs_background": "light"
     },
     "output_type": "display_data"
    }
   ],
   "source": [
    "import matplotlib.pyplot as plt\n",
    "%matplotlib inline\n",
    "Sales_1 = [82,76,40,67,62,75,78,71,98,89,78,67,72,82,87,66,56,52]\n",
    "Sales_2=[62,5,91,25,36,32,96,95,3,90,95,32,27,55,100,15,71,11,37,21]\n",
    "Sales_3=[23,89,12,78,72,89,25,69,68,86,19,49,15,16,16,75,65,31,25,52]\n",
    "Sales_4=[59,73,70,16,81,61,88,98,10,87,29,72,16,23,72,88,78,99,75,30]\n",
    " \n",
    "box_plot_data=[Sales_1,Sales_2,Sales_3,Sales_4]\n",
    "plt.boxplot(box_plot_data)\n",
    "plt.show()"
   ]
  }
 ],
 "metadata": {
  "kernelspec": {
   "display_name": "Python 3",
   "language": "python",
   "name": "python3"
  },
  "language_info": {
   "codemirror_mode": {
    "name": "ipython",
    "version": 3
   },
   "file_extension": ".py",
   "mimetype": "text/x-python",
   "name": "python",
   "nbconvert_exporter": "python",
   "pygments_lexer": "ipython3",
   "version": "3.8.3"
  }
 },
 "nbformat": 4,
 "nbformat_minor": 2
}
